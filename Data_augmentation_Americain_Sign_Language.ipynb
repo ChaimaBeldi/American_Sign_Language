{
  "nbformat": 4,
  "nbformat_minor": 0,
  "metadata": {
    "colab": {
      "name": "Data_augmentation_Americain_Sign_Language",
      "provenance": []
    },
    "kernelspec": {
      "display_name": "Python 3",
      "name": "python3"
    },
    "language_info": {
      "name": "python"
    }
  },
  "cells": [
    {
      "cell_type": "markdown",
      "metadata": {
        "id": "tye31rdKRoOl"
      },
      "source": [
        "###Import Data"
      ]
    },
    {
      "cell_type": "code",
      "metadata": {
        "id": "HTylkOjmQ8ZR"
      },
      "source": [
        "image_path = '/content/drive/MyDrive/American Sign Language Letters'"
      ],
      "execution_count": null,
      "outputs": []
    },
    {
      "cell_type": "markdown",
      "metadata": {
        "id": "UPz_yaOtResm"
      },
      "source": [
        "##Data Augmentation"
      ]
    },
    {
      "cell_type": "markdown",
      "source": [
        "## 1. Adding Noise"
      ],
      "metadata": {
        "id": "re9pI1HvxKEA"
      }
    },
    {
      "cell_type": "code",
      "metadata": {
        "id": "fgAxut75gN3w"
      },
      "source": [
        "import numpy as np\n",
        "import glob\n",
        "import os\n",
        "import cv2\n",
        "os.chdir(r\"/content/drive/MyDrive/American Sign Language Letters/train_noisy\")\n",
        "image_path =r\"/content/drive/MyDrive/American Sign Language Letters/train_noisy\""
      ],
      "execution_count": null,
      "outputs": []
    },
    {
      "cell_type": "code",
      "metadata": {
        "id": "YhF47ycKgQ8s"
      },
      "source": [
        "img_list=glob.glob(r'/content/drive/MyDrive/American Sign Language Letters/train_noisy/*.jpg')"
      ],
      "execution_count": null,
      "outputs": []
    },
    {
      "cell_type": "code",
      "metadata": {
        "id": "MpKnpVzBRviD"
      },
      "source": [
        "\n",
        "import numpy as np\n",
        "import glob\n",
        "import os\n",
        "import cv2\n",
        "os.chdir(r\"/content/drive/MyDrive/American Sign Language Letters/train_noisy\")\n",
        "image_path =r\"/content/drive/MyDrive/American Sign Language Letters/train_noisy\"\n",
        "files = os.listdir(image_path)\n",
        "\n",
        "mean = 0\n",
        "var = 15\n",
        "sigma = var \n",
        "\n",
        "img_list=glob.glob(r'/content/drive/MyDrive/American Sign Language Letters/train_noisy/*.jpg')\n",
        "for i  in range(len(img_list)) :\n",
        "    lettre = img_list[i][66:-4]\n",
        "    img=cv2.imread(img_list[i]) \n",
        "    img_name = img_list[i]\n",
        "    gaussian = np.random.normal(mean, sigma, (img.shape[0], img.shape[1]))\n",
        "    noisy_image = np.zeros(img.shape, np.float32)\n",
        "    if len(img.shape) == 2:\n",
        "        noisy_image = img + gaussian\n",
        "    else:\n",
        "        noisy_image[:, :, 0] = img[:, :, 0] + gaussian\n",
        "        noisy_image[:, :, 1] = img[:, :, 1] + gaussian\n",
        "        noisy_image[:, :, 2] = img[:, :, 2] + gaussian\n",
        "\n",
        "    cv2.normalize(noisy_image, noisy_image, 0, 255, cv2.NORM_MINMAX, dtype=-1)\n",
        "    noisy_image = noisy_image.astype(np.uint8)\n",
        "    cv2.imwrite(img_list[i], noisy_image)\n",
        "    os.rename(img_list[i], r'/content/drive/MyDrive/American Sign Language Letters/train_noisy/'+lettre+'_noisy_'+ '.jpg')\n"
      ],
      "execution_count": null,
      "outputs": []
    },
    {
      "cell_type": "markdown",
      "metadata": {
        "id": "ptk-PeP6YHBp"
      },
      "source": [
        "## 2. Color augmentation :"
      ]
    },
    {
      "cell_type": "code",
      "metadata": {
        "id": "VMKWASvqdD_F"
      },
      "source": [
        "import matplotlib.pyplot as plt\n",
        "import torch\n",
        "import PIL.Image\n",
        "from torchvision import transforms\n",
        "img_list=glob.glob('/content/drive/MyDrive/American Sign Language Letters/train_contrast/*.jpg')\n"
      ],
      "execution_count": null,
      "outputs": []
    },
    {
      "cell_type": "code",
      "metadata": {
        "colab": {
          "base_uri": "https://localhost:8080/"
        },
        "id": "1coN7L3zdJZN",
        "outputId": "9bdb149f-8f7f-4e73-998a-8d3360f07b55"
      },
      "source": [
        "len('/content/drive/MyDrive/American Sign Language Letters/train_contrast/')"
      ],
      "execution_count": null,
      "outputs": [
        {
          "data": {
            "text/plain": [
              "69"
            ]
          },
          "execution_count": 17,
          "metadata": {},
          "output_type": "execute_result"
        }
      ]
    },
    {
      "cell_type": "code",
      "metadata": {
        "id": "2zYt2OpfZJpw"
      },
      "source": [
        "import matplotlib.pyplot as plt\n",
        "import torch\n",
        "import PIL.Image\n",
        "from torchvision import transforms\n",
        "img_list=glob.glob('/content/drive/MyDrive/American Sign Language Letters/train_contrast/*.jpg')\n",
        "\n",
        "for i in range(0,len(img_list)):\n",
        "  lettre\n",
        "  img = PIL.Image.open(img_list[i])\n",
        "  loader_transform1 = transforms.ColorJitter(brightness=2,saturation=3,hue=0.2)\n",
        "  img2 = loader_transform1(img)\n",
        "  image = cv2.cvtColor(np.array(img2), cv2.COLOR_RGB2BGR)\n",
        "  cv2.imwrite(img_list[i], image)\n",
        "  os.rename(img_list[i], '/content/drive/MyDrive/American Sign Language Letters/train_contrast/contrast_image_'+str(i)+'.jpg')"
      ],
      "execution_count": null,
      "outputs": []
    },
    {
      "cell_type": "code",
      "metadata": {
        "id": "_Asrodt6-lhR"
      },
      "source": [
        "image_path ='/content/drive/MyDrive/American Sign Language Letters/train/A0_jpg.rf.292a080422ba984985192f413101af41.jpg'"
      ],
      "execution_count": null,
      "outputs": []
    },
    {
      "cell_type": "code",
      "metadata": {
        "id": "YqSe9fWF-4Zm"
      },
      "source": [
        "import cv2\n",
        "\n",
        "img = cv2.imread(image_path)"
      ],
      "execution_count": null,
      "outputs": []
    },
    {
      "cell_type": "markdown",
      "metadata": {
        "id": "2IX6JE1gqAlf"
      },
      "source": [
        "##3. Rotation"
      ]
    },
    {
      "cell_type": "code",
      "metadata": {
        "id": "uBwRkPCKxN67"
      },
      "source": [
        "import matplotlib.pyplot as plt\n",
        "from skimage.io import imread, imshow\n",
        "from skimage import exposure, transform\n",
        "import matplotlib.pyplot as plt\n",
        "import numpy as np\n",
        "import pandas as pd\n",
        "import math"
      ],
      "execution_count": null,
      "outputs": []
    },
    {
      "cell_type": "code",
      "metadata": {
        "id": "EOPWfVMmqCS3"
      },
      "source": [
        "import matplotlib.pyplot as plt\n",
        "import torch\n",
        "import PIL.Image\n",
        "from torchvision import transforms\n",
        "img_list=glob.glob('/content/drive/MyDrive/American Sign Language Letters/train_rotation/*.jpg')\n",
        "\n",
        "for i in range(0,len(img_list)):\n",
        "  lettre\n",
        "  img = PIL.Image.open(img_list[i])\n",
        "  tr = transform.SimilarityTransform(scale=1.5, rotation=math.pi/20, translation=(-40, -250))\n",
        "  image_tr_1 = transform.warp(img, tr)\n",
        "  cv2.imwrite(img_list[i], image_tr_1)\n",
        "  os.rename(img_list[i], '/content/drive/MyDrive/American Sign Language Letters/train_rotation/rotation_image_'+str(i)+'.jpg')"
      ],
      "execution_count": null,
      "outputs": []
    }
  ]
}